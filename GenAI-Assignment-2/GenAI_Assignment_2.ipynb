{
  "nbformat": 4,
  "nbformat_minor": 0,
  "metadata": {
    "colab": {
      "provenance": []
    },
    "kernelspec": {
      "name": "python3",
      "display_name": "Python 3"
    },
    "language_info": {
      "name": "python"
    }
  },
  "cells": [
    {
      "cell_type": "markdown",
      "source": [
        "## Assigment 2\n",
        "\n",
        "- Use a genAI tool to learn what the game of Yahtzee is\n",
        "- Engineer the genAI tool to play Yahtzee with you\n",
        "- Ask the genAI tool how to approach writing code for a Yahtzee scorer yourself\n",
        "DO NOT ask the genAI tool to write code yet."
      ],
      "metadata": {
        "id": "p4y1zhBHvFZx"
      }
    },
    {
      "cell_type": "code",
      "source": [
        "from collections import Counter\n",
        "\n",
        "def score(dice):\n",
        "    result = {}\n",
        "    counts = Counter(dice)\n",
        "\n",
        "    # Ones through Sixes categories\n",
        "    for i in range(1, 7):\n",
        "        result[f\"{i}s\"] = counts[i] * i\n",
        "\n",
        "    # Three of a Kind, Four of a Kind, Chance categories\n",
        "    result['Three of a Kind'] = sum(dice) if any(count >= 3 for count in counts.values()) else 0\n",
        "    result['Four of a Kind'] = sum(dice) if any(count >= 4 for count in counts.values()) else 0\n",
        "    result['Chance'] = sum(dice)\n",
        "\n",
        "    # Full House\n",
        "    if 2 in counts.values() and 3 in counts.values():\n",
        "        result['Full House'] = 25\n",
        "    else:\n",
        "        result['Full House'] = 0\n",
        "\n",
        "    # Small Straight\n",
        "    if any(all(i in dice for i in range(start, start+4)) for start in range(1, 4)):\n",
        "        result['Small Straight'] = 30\n",
        "    else:\n",
        "        result['Small Straight'] = 0\n",
        "\n",
        "    # Large Straight\n",
        "    if all(i in dice for i in range(1, 6)) or all(i in dice for i in range(2, 7)):\n",
        "        result['Large Straight'] = 40\n",
        "    else:\n",
        "        result['Large Straight'] = 0\n",
        "\n",
        "    # Yahtzee\n",
        "    result['Yahtzee'] = 50 if any(count == 5 for count in counts.values()) else 0\n",
        "\n",
        "    return result\n"
      ],
      "metadata": {
        "id": "dX8nOCWDvJ_V"
      },
      "execution_count": 12,
      "outputs": []
    },
    {
      "cell_type": "code",
      "source": [
        "# Example usage:\n",
        "dice = [1, 2, 3, 4, 5]  # Example dice rolls\n",
        "print(score(dice))"
      ],
      "metadata": {
        "colab": {
          "base_uri": "https://localhost:8080/"
        },
        "id": "1ioBIpGmvN6S",
        "outputId": "6a29bdc6-38d8-400f-be0a-6fbf37047fbf"
      },
      "execution_count": 13,
      "outputs": [
        {
          "output_type": "stream",
          "name": "stdout",
          "text": [
            "{'1s': 1, '2s': 2, '3s': 3, '4s': 4, '5s': 5, '6s': 0, 'Three of a Kind': 0, 'Four of a Kind': 0, 'Chance': 15, 'Full House': 0, 'Small Straight': 30, 'Large Straight': 40, 'Yahtzee': 0}\n"
          ]
        }
      ]
    }
  ]
}
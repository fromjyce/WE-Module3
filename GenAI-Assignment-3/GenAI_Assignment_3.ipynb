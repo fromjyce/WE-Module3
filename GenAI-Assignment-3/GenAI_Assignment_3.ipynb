{
  "nbformat": 4,
  "nbformat_minor": 0,
  "metadata": {
    "colab": {
      "provenance": []
    },
    "kernelspec": {
      "name": "python3",
      "display_name": "Python 3"
    },
    "language_info": {
      "name": "python"
    }
  },
  "cells": [
    {
      "cell_type": "markdown",
      "source": [
        "## Assigment 3\n",
        "\n",
        "Create a testing strategy for the Yahtzee scorer code that was generated and document your journey."
      ],
      "metadata": {
        "id": "p4y1zhBHvFZx"
      }
    },
    {
      "cell_type": "code",
      "source": [
        "import unittest\n",
        "from collections import Counter\n",
        "\n",
        "def score(dice):\n",
        "    result = {}\n",
        "    counts = Counter(dice)\n",
        "\n",
        "    # Ones through Sixes categories\n",
        "    for i in range(1, 7):\n",
        "        result[f\"{i}s\"] = counts[i] * i\n",
        "\n",
        "    # Three of a Kind, Four of a Kind, Chance categories\n",
        "    result['Three of a Kind'] = sum(dice) if any(count >= 3 for count in counts.values()) else 0\n",
        "    result['Four of a Kind'] = sum(dice) if any(count >= 4 for count in counts.values()) else 0\n",
        "    result['Chance'] = sum(dice)\n",
        "\n",
        "    # Full House\n",
        "    if 2 in counts.values() and 3 in counts.values():\n",
        "        result['Full House'] = 25\n",
        "    else:\n",
        "        result['Full House'] = 0\n",
        "\n",
        "    # Small Straight\n",
        "    if any(all(i in dice for i in range(start, start+4)) for start in range(1, 4)):\n",
        "        result['Small Straight'] = 30\n",
        "    else:\n",
        "        result['Small Straight'] = 0\n",
        "\n",
        "    # Large Straight\n",
        "    if all(i in dice for i in range(1, 6)) or all(i in dice for i in range(2, 7)):\n",
        "        result['Large Straight'] = 40\n",
        "    else:\n",
        "        result['Large Straight'] = 0\n",
        "\n",
        "    # Yahtzee\n",
        "    result['Yahtzee'] = 50 if any(count == 5 for count in counts.values()) else 0\n",
        "\n",
        "    return result\n"
      ],
      "metadata": {
        "id": "N6m7JwiUycVJ"
      },
      "execution_count": 17,
      "outputs": []
    },
    {
      "cell_type": "code",
      "source": [
        "class TestYahtzeeScorer(unittest.TestCase):\n",
        "    def test_ones_category(self):\n",
        "        self.assertEqual(score([1, 1, 2, 3, 4])['Ones'], 2)\n",
        "        self.assertEqual(score([2, 2, 2, 4, 5])['Ones'], 0)\n",
        "\n",
        "    def test_twos_category(self):\n",
        "        self.assertEqual(score([1, 2, 2, 3, 4])['Twos'], 4)\n",
        "        self.assertEqual(score([1, 3, 4, 5, 6])['Twos'], 0)\n",
        "\n",
        "    def test_threes_category(self):\n",
        "      self.assertEqual(score([1, 2, 3, 3, 4])['Threes'], 3)\n",
        "      self.assertEqual(score([1, 2, 4, 5, 6])['Threes'], 0)\n",
        "\n",
        "    def test_fours_category(self):\n",
        "      self.assertEqual(score([1, 2, 3, 4, 4])['Fours'], 8)\n",
        "      self.assertEqual(score([1, 2, 3, 5, 6])['Fours'], 0)\n",
        "\n",
        "    def test_full_house_category(self):\n",
        "        self.assertEqual(score([1, 1, 2, 2, 2])['Full House'], 25)\n",
        "        self.assertEqual(score([1, 1, 1, 2, 2])['Full House'], 25)\n",
        "        self.assertEqual(score([1, 2, 3, 4, 5])['Full House'], 0)\n",
        "\n",
        "    def test_small_straight_category(self):\n",
        "        self.assertEqual(score([1, 2, 3, 4, 6])['Small Straight'], 30)\n",
        "        self.assertEqual(score([1, 2, 3, 5, 6])['Small Straight'], 30)\n",
        "        self.assertEqual(score([1, 2, 3, 4, 4])['Small Straight'], 0)\n",
        "\n",
        "    def test_large_straight_category(self):\n",
        "      self.assertEqual(score([2, 3, 4, 5, 6])['Large Straight'], 40)\n",
        "      self.assertEqual(score([1, 2, 3, 4, 5])['Large Straight'], 40)\n",
        "      self.assertEqual(score([1, 3, 4, 5, 6])['Large Straight'], 0)\n",
        "\n",
        "    def test_yahtzee_category(self):\n",
        "      self.assertEqual(score([1, 1, 1, 1, 1])['Yahtzee'], 50)\n",
        "      self.assertEqual(score([2, 2, 2, 2, 2])['Yahtzee'], 50)\n",
        "      self.assertEqual(score([1, 1, 1, 2, 2])['Yahtzee'], 0)\n",
        "\n",
        "    def test_invalid_inputs(self):\n",
        "        self.assertEqual(score([]), {})\n",
        "        self.assertEqual(score([7, 7, 7, 7, 7]), {})"
      ],
      "metadata": {
        "id": "7YUftyo8yffo"
      },
      "execution_count": 18,
      "outputs": []
    },
    {
      "cell_type": "code",
      "source": [
        "\n",
        "unittest.main(argv=[''], exit=False)"
      ],
      "metadata": {
        "colab": {
          "base_uri": "https://localhost:8080/"
        },
        "id": "RvcY5NEByg-d",
        "outputId": "c36566a5-4c23-4312-a689-e20e5d6dbebe"
      },
      "execution_count": 19,
      "outputs": [
        {
          "output_type": "stream",
          "name": "stderr",
          "text": [
            "E.F.EFEE.\n",
            "======================================================================\n",
            "ERROR: test_fours_category (__main__.TestYahtzeeScorer)\n",
            "----------------------------------------------------------------------\n",
            "Traceback (most recent call last):\n",
            "  File \"<ipython-input-18-6e1e549e77b4>\", line 15, in test_fours_category\n",
            "    self.assertEqual(score([1, 2, 3, 4, 4])['Fours'], 8)\n",
            "KeyError: 'Fours'\n",
            "\n",
            "======================================================================\n",
            "ERROR: test_ones_category (__main__.TestYahtzeeScorer)\n",
            "----------------------------------------------------------------------\n",
            "Traceback (most recent call last):\n",
            "  File \"<ipython-input-18-6e1e549e77b4>\", line 3, in test_ones_category\n",
            "    self.assertEqual(score([1, 1, 2, 3, 4])['Ones'], 2)\n",
            "KeyError: 'Ones'\n",
            "\n",
            "======================================================================\n",
            "ERROR: test_threes_category (__main__.TestYahtzeeScorer)\n",
            "----------------------------------------------------------------------\n",
            "Traceback (most recent call last):\n",
            "  File \"<ipython-input-18-6e1e549e77b4>\", line 11, in test_threes_category\n",
            "    self.assertEqual(score([1, 2, 3, 3, 4])['Threes'], 3)\n",
            "KeyError: 'Threes'\n",
            "\n",
            "======================================================================\n",
            "ERROR: test_twos_category (__main__.TestYahtzeeScorer)\n",
            "----------------------------------------------------------------------\n",
            "Traceback (most recent call last):\n",
            "  File \"<ipython-input-18-6e1e549e77b4>\", line 7, in test_twos_category\n",
            "    self.assertEqual(score([1, 2, 2, 3, 4])['Twos'], 4)\n",
            "KeyError: 'Twos'\n",
            "\n",
            "======================================================================\n",
            "FAIL: test_invalid_inputs (__main__.TestYahtzeeScorer)\n",
            "----------------------------------------------------------------------\n",
            "Traceback (most recent call last):\n",
            "  File \"<ipython-input-18-6e1e549e77b4>\", line 39, in test_invalid_inputs\n",
            "    self.assertEqual(score([]), {})\n",
            "AssertionError: {'1s': 0, '2s': 0, '3s': 0, '4s': 0, '5s':[136 chars]': 0} != {}\n",
            "+ {}\n",
            "- {'1s': 0,\n",
            "-  '2s': 0,\n",
            "-  '3s': 0,\n",
            "-  '4s': 0,\n",
            "-  '5s': 0,\n",
            "-  '6s': 0,\n",
            "-  'Chance': 0,\n",
            "-  'Four of a Kind': 0,\n",
            "-  'Full House': 0,\n",
            "-  'Large Straight': 0,\n",
            "-  'Small Straight': 0,\n",
            "-  'Three of a Kind': 0,\n",
            "-  'Yahtzee': 0}\n",
            "\n",
            "======================================================================\n",
            "FAIL: test_small_straight_category (__main__.TestYahtzeeScorer)\n",
            "----------------------------------------------------------------------\n",
            "Traceback (most recent call last):\n",
            "  File \"<ipython-input-18-6e1e549e77b4>\", line 25, in test_small_straight_category\n",
            "    self.assertEqual(score([1, 2, 3, 5, 6])['Small Straight'], 30)\n",
            "AssertionError: 0 != 30\n",
            "\n",
            "----------------------------------------------------------------------\n",
            "Ran 9 tests in 0.028s\n",
            "\n",
            "FAILED (failures=2, errors=4)\n"
          ]
        },
        {
          "output_type": "execute_result",
          "data": {
            "text/plain": [
              "<unittest.main.TestProgram at 0x7fb46032c970>"
            ]
          },
          "metadata": {},
          "execution_count": 19
        }
      ]
    }
  ]
}
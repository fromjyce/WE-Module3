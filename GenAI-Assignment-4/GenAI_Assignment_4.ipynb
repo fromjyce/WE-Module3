{
  "nbformat": 4,
  "nbformat_minor": 0,
  "metadata": {
    "colab": {
      "provenance": []
    },
    "kernelspec": {
      "name": "python3",
      "display_name": "Python 3"
    },
    "language_info": {
      "name": "python"
    }
  },
  "cells": [
    {
      "cell_type": "markdown",
      "source": [
        "## Assigment 4\n",
        "\n",
        "The 1980s saw a shift from Natural Language Processing techniques aiming to codify the grammatical rules of natural language towards techniques aiming to use statistical models to generate text. One early idea which technically isn’t “AI” seeing as it is “memorizing” the training data and yet introduces us to the power contained in statistical techniques of text generation is the idea of Markov chains. Write a python function generate(filename: str, start_words: list[str], chain_length: int, num_generated: int) -> str which takes a filename, a chain length, a list of start words which has to be exactly as long as the chain_length (why?), and an integer num_generated and returns a sentence num_generated words long which sounds similar to the text contained in filename."
      ],
      "metadata": {
        "id": "p4y1zhBHvFZx"
      }
    },
    {
      "cell_type": "code",
      "source": [
        "import random\n",
        "\n",
        "def generate_markov_text(corpus, order=1, length=50):\n",
        "    \"\"\"\n",
        "    Generate text using Markov chains.\n",
        "\n",
        "    Args:\n",
        "    - corpus (str or list): The input text corpus.\n",
        "    - order (int): The order of the Markov chain (default is 1).\n",
        "    - length (int): The length of the generated text (default is 50).\n",
        "\n",
        "    Returns:\n",
        "    - str: The generated text.\n",
        "    \"\"\"\n",
        "    # If the input corpus is a string, split it into a list of words\n",
        "    if isinstance(corpus, str):\n",
        "        corpus = corpus.split()\n",
        "\n",
        "    # Initialize a dictionary to store transition probabilities\n",
        "    markov_dict = {}\n",
        "\n",
        "    # Construct the Markov chain\n",
        "    for i in range(len(corpus) - order):\n",
        "        current_state = tuple(corpus[i:i + order])\n",
        "        next_state = corpus[i + order]\n",
        "        if current_state not in markov_dict:\n",
        "            markov_dict[current_state] = []\n",
        "        markov_dict[current_state].append(next_state)\n",
        "\n",
        "    # Generate text\n",
        "    current_state = random.choice(list(markov_dict.keys()))\n",
        "    generated_text = list(current_state)\n",
        "\n",
        "    while len(generated_text) < length:\n",
        "        if current_state in markov_dict:\n",
        "            next_word = random.choice(markov_dict[current_state])\n",
        "            generated_text.append(next_word)\n",
        "            current_state = tuple(generated_text[-order:])\n",
        "        else:\n",
        "            break\n",
        "\n",
        "    return ' '.join(generated_text)\n"
      ],
      "metadata": {
        "id": "n6UNDPd68Kzf"
      },
      "execution_count": 20,
      "outputs": []
    },
    {
      "cell_type": "code",
      "source": [
        "# Example usage:\n",
        "input_corpus = \"the cat sat on the mat\"\n",
        "generated_text = generate_markov_text(input_corpus, order=1, length=20)\n",
        "print(\"Generated Text:\", generated_text)"
      ],
      "metadata": {
        "colab": {
          "base_uri": "https://localhost:8080/"
        },
        "id": "XUhpsRu_8PVv",
        "outputId": "1104a7d9-e982-4c2e-e0fd-16e03c11dd39"
      },
      "execution_count": 21,
      "outputs": [
        {
          "output_type": "stream",
          "name": "stdout",
          "text": [
            "Generated Text: the mat\n"
          ]
        }
      ]
    },
    {
      "cell_type": "code",
      "source": [
        "import random\n",
        "\n",
        "def generate(filename: str, start_words: list[str], chain_length: int, num_generated: int) -> str:\n",
        "    \"\"\"\n",
        "    Generate a sentence similar to the text contained in the file using Markov chains.\n",
        "\n",
        "    Args:\n",
        "    - filename (str): The name of the file containing the input text corpus.\n",
        "    - start_words (list[str]): A list of start words exactly as long as the chain_length.\n",
        "    - chain_length (int): The order of the Markov chain.\n",
        "    - num_generated (int): The number of words in the generated sentence.\n",
        "\n",
        "    Returns:\n",
        "    - str: The generated sentence.\n",
        "    \"\"\"\n",
        "    # Read the content of the file\n",
        "    with open(filename, 'r', encoding='utf-8') as file:\n",
        "        corpus = file.read().split()\n",
        "\n",
        "    # Initialize a dictionary to store transition probabilities\n",
        "    markov_dict = {}\n",
        "\n",
        "    # Construct the Markov chain\n",
        "    for i in range(len(corpus) - chain_length):\n",
        "        current_state = tuple(corpus[i:i + chain_length])\n",
        "        next_state = corpus[i + chain_length]\n",
        "        if current_state not in markov_dict:\n",
        "            markov_dict[current_state] = []\n",
        "        markov_dict[current_state].append(next_state)\n",
        "\n",
        "    # Generate text\n",
        "    current_state = tuple(start_words)\n",
        "    generated_sentence = list(current_state)\n",
        "\n",
        "    while len(generated_sentence) < num_generated:\n",
        "        if current_state in markov_dict:\n",
        "            next_word = random.choice(markov_dict[current_state])\n",
        "            generated_sentence.append(next_word)\n",
        "            current_state = tuple(generated_sentence[-chain_length:])\n",
        "        else:\n",
        "            break\n",
        "\n",
        "    return ' '.join(generated_sentence)\n"
      ],
      "metadata": {
        "id": "MsASuBEk82zz"
      },
      "execution_count": 22,
      "outputs": []
    },
    {
      "cell_type": "code",
      "source": [
        "# Example usage:\n",
        "generated_sentence = generate(\"input.txt\", start_words=[\"The\", \"cat\", \"sat\"], chain_length=2, num_generated=10)\n",
        "print(\"Generated Sentence:\", generated_sentence)"
      ],
      "metadata": {
        "colab": {
          "base_uri": "https://localhost:8080/"
        },
        "id": "Ooptr7Ws85Wv",
        "outputId": "ba1839f1-d00e-4704-83ca-7069225ed817"
      },
      "execution_count": 23,
      "outputs": [
        {
          "output_type": "stream",
          "name": "stdout",
          "text": [
            "Generated Sentence: The cat sat\n"
          ]
        }
      ]
    }
  ]
}